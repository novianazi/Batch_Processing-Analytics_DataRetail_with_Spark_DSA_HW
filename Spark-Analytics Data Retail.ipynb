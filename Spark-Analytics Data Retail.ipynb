{
  "nbformat": 4,
  "nbformat_minor": 0,
  "metadata": {
    "colab": {
      "provenance": [],
      "collapsed_sections": []
    },
    "kernelspec": {
      "name": "python3",
      "display_name": "Python 3"
    },
    "language_info": {
      "name": "python"
    }
  },
  "cells": [
    {
      "cell_type": "code",
      "execution_count": null,
      "metadata": {
        "colab": {
          "base_uri": "https://localhost:8080/"
        },
        "id": "snZbHHXhHfei",
        "outputId": "899fb909-2963-48c1-8de1-47c9697a3c9d"
      },
      "outputs": [
        {
          "output_type": "stream",
          "name": "stdout",
          "text": [
            "Looking in indexes: https://pypi.org/simple, https://us-python.pkg.dev/colab-wheels/public/simple/\n",
            "Requirement already satisfied: pyspark in /usr/local/lib/python3.7/dist-packages (3.3.0)\n",
            "Requirement already satisfied: py4j==0.10.9.5 in /usr/local/lib/python3.7/dist-packages (from pyspark) (0.10.9.5)\n"
          ]
        }
      ],
      "source": [
        "# install findspark using pip\n",
        "!pip install -q findspark\n",
        "!pip install pyspark"
      ]
    },
    {
      "cell_type": "code",
      "source": [
        "#import Library\n",
        "from pyspark.sql import SparkSession\n",
        "from pyspark.sql import functions as func\n",
        "from pyspark.sql.types import StructType, StructField, StringType, IntegerType, FloatType\n",
        "import pandas as pd"
      ],
      "metadata": {
        "id": "hpCAeVT7HueT"
      },
      "execution_count": null,
      "outputs": []
    },
    {
      "cell_type": "code",
      "source": [
        "spark = SparkSession.builder.appName(\"MinAmounts\").getOrCreate()"
      ],
      "metadata": {
        "id": "CmJJTL9sHypG"
      },
      "execution_count": null,
      "outputs": []
    },
    {
      "cell_type": "code",
      "source": [
        "schema = StructType([\n",
        "                     StructField(\"InvoiceNo\", StringType(), True),\n",
        "                     StructField(\"StockCode\", StringType(), True),                     \n",
        "                     StructField(\"Description\", StringType(), True),\n",
        "                     StructField(\"Quantity\", IntegerType(), True),\n",
        "                     StructField(\"InvoiceData\", StringType(), True),\n",
        "                     StructField(\"Amount\", FloatType(), True),\n",
        "                     StructField(\"CustomerID\", StringType(), True),\n",
        "                     StructField(\"Country\", StringType(), True)])\n"
      ],
      "metadata": {
        "id": "IiGFenMCH1Ow"
      },
      "execution_count": null,
      "outputs": []
    },
    {
      "cell_type": "code",
      "source": [
        "# read csv using pandas \n",
        "csv_file = pd.read_csv('retail-data-full.csv', sep = ';')\n",
        "df = pd.DataFrame(data=csv_file)\n",
        "df.to_csv('result_data.csv', index = False)"
      ],
      "metadata": {
        "id": "wPFBH-wFMI5K"
      },
      "execution_count": null,
      "outputs": []
    },
    {
      "cell_type": "code",
      "source": [
        "# // Read the retail-data-full.csv as dataframe\n",
        "df = spark.read.schema(schema).csv('result_data.csv')\n",
        "df.printSchema()\n"
      ],
      "metadata": {
        "colab": {
          "base_uri": "https://localhost:8080/"
        },
        "id": "468FrT7mH9kL",
        "outputId": "04c96471-63ab-4a6a-cf9d-30d04fd7a36b"
      },
      "execution_count": null,
      "outputs": [
        {
          "output_type": "stream",
          "name": "stdout",
          "text": [
            "root\n",
            " |-- InvoiceNo: string (nullable = true)\n",
            " |-- StockCode: string (nullable = true)\n",
            " |-- Description: string (nullable = true)\n",
            " |-- Quantity: integer (nullable = true)\n",
            " |-- InvoiceData: string (nullable = true)\n",
            " |-- Amount: float (nullable = true)\n",
            " |-- CustomerID: string (nullable = true)\n",
            " |-- Country: string (nullable = true)\n",
            "\n"
          ]
        }
      ]
    },
    {
      "cell_type": "code",
      "source": [
        "df.show()"
      ],
      "metadata": {
        "colab": {
          "base_uri": "https://localhost:8080/"
        },
        "id": "nS0xmD4jMA9P",
        "outputId": "4493562d-0af1-4e18-919b-ae71c67ad0cb"
      },
      "execution_count": null,
      "outputs": [
        {
          "output_type": "stream",
          "name": "stdout",
          "text": [
            "+---------+---------+--------------------+--------+-------------------+------+----------+--------------+\n",
            "|InvoiceNo|StockCode|         Description|Quantity|        InvoiceData|Amount|CustomerID|       Country|\n",
            "+---------+---------+--------------------+--------+-------------------+------+----------+--------------+\n",
            "|   536365|   85123A|WHITE HANGING HEA...|       6|2010-12-01 08:26:00|  2.55|   17850.0|United Kingdom|\n",
            "|   536365|    71053| WHITE METAL LANTERN|       6|2010-12-01 08:26:00|  3.39|   17850.0|United Kingdom|\n",
            "|   536365|   84406B|CREAM CUPID HEART...|       8|2010-12-01 08:26:00|  2.75|   17850.0|United Kingdom|\n",
            "|   536365|   84029G|KNITTED UNION FLA...|       6|2010-12-01 08:26:00|  3.39|   17850.0|United Kingdom|\n",
            "|   536365|   84029E|RED WOOLLY HOTTIE...|       6|2010-12-01 08:26:00|  3.39|   17850.0|United Kingdom|\n",
            "|   536365|    22752|SET 7 BABUSHKA NE...|       2|2010-12-01 08:26:00|  7.65|   17850.0|United Kingdom|\n",
            "|   536365|    21730|GLASS STAR FROSTE...|       6|2010-12-01 08:26:00|  4.25|   17850.0|United Kingdom|\n",
            "|   536366|    22633|HAND WARMER UNION...|       6|2010-12-01 08:28:00|  1.85|   17850.0|United Kingdom|\n",
            "|   536366|    22632|HAND WARMER RED P...|       6|2010-12-01 08:28:00|  1.85|   17850.0|United Kingdom|\n",
            "|   536367|    84879|ASSORTED COLOUR B...|      32|2010-12-01 08:34:00|  1.69|   13047.0|United Kingdom|\n",
            "|   536367|    22745|POPPY'S PLAYHOUSE...|       6|2010-12-01 08:34:00|   2.1|   13047.0|United Kingdom|\n",
            "|   536367|    22748|POPPY'S PLAYHOUSE...|       6|2010-12-01 08:34:00|   2.1|   13047.0|United Kingdom|\n",
            "|   536367|    22749|FELTCRAFT PRINCES...|       8|2010-12-01 08:34:00|  3.75|   13047.0|United Kingdom|\n",
            "|   536367|    22310|IVORY KNITTED MUG...|       6|2010-12-01 08:34:00|  1.65|   13047.0|United Kingdom|\n",
            "|   536367|    84969|BOX OF 6 ASSORTED...|       6|2010-12-01 08:34:00|  4.25|   13047.0|United Kingdom|\n",
            "|   536367|    22623|BOX OF VINTAGE JI...|       3|2010-12-01 08:34:00|  4.95|   13047.0|United Kingdom|\n",
            "|   536367|    22622|BOX OF VINTAGE AL...|       2|2010-12-01 08:34:00|  9.95|   13047.0|United Kingdom|\n",
            "|   536367|    21754|HOME BUILDING BLO...|       3|2010-12-01 08:34:00|  5.95|   13047.0|United Kingdom|\n",
            "|   536367|    21755|LOVE BUILDING BLO...|       3|2010-12-01 08:34:00|  5.95|   13047.0|United Kingdom|\n",
            "|   536367|    21777|RECIPE BOX WITH M...|       4|2010-12-01 08:34:00|  7.95|   13047.0|United Kingdom|\n",
            "+---------+---------+--------------------+--------+-------------------+------+----------+--------------+\n",
            "only showing top 20 rows\n",
            "\n"
          ]
        }
      ]
    },
    {
      "cell_type": "code",
      "source": [
        "df"
      ],
      "metadata": {
        "colab": {
          "base_uri": "https://localhost:8080/"
        },
        "id": "9s5gTOaAOEr6",
        "outputId": "c951b95f-4c41-466d-a1a0-7a8b0798b801"
      },
      "execution_count": null,
      "outputs": [
        {
          "output_type": "execute_result",
          "data": {
            "text/plain": [
              "DataFrame[InvoiceNo: string, StockCode: string, Description: string, Quantity: int, InvoiceData: string, Amount: float, CustomerID: string, Country: string]"
            ]
          },
          "metadata": {},
          "execution_count": 8
        }
      ]
    },
    {
      "cell_type": "code",
      "source": [
        "minAmt = df.filter(df.CustomerID != 'null')"
      ],
      "metadata": {
        "id": "hw-bsN9cKO3G"
      },
      "execution_count": null,
      "outputs": []
    },
    {
      "cell_type": "code",
      "source": [
        "minAmt.show()"
      ],
      "metadata": {
        "colab": {
          "base_uri": "https://localhost:8080/"
        },
        "id": "86MSJpndQxFV",
        "outputId": "96c22ef6-a245-4fd9-e839-3b97afe0b786"
      },
      "execution_count": null,
      "outputs": [
        {
          "output_type": "stream",
          "name": "stdout",
          "text": [
            "+---------+---------+--------------------+--------+-------------------+------+----------+--------------+\n",
            "|InvoiceNo|StockCode|         Description|Quantity|        InvoiceData|Amount|CustomerID|       Country|\n",
            "+---------+---------+--------------------+--------+-------------------+------+----------+--------------+\n",
            "|   536365|   85123A|WHITE HANGING HEA...|       6|2010-12-01 08:26:00|  2.55|   17850.0|United Kingdom|\n",
            "|   536365|    71053| WHITE METAL LANTERN|       6|2010-12-01 08:26:00|  3.39|   17850.0|United Kingdom|\n",
            "|   536365|   84406B|CREAM CUPID HEART...|       8|2010-12-01 08:26:00|  2.75|   17850.0|United Kingdom|\n",
            "|   536365|   84029G|KNITTED UNION FLA...|       6|2010-12-01 08:26:00|  3.39|   17850.0|United Kingdom|\n",
            "|   536365|   84029E|RED WOOLLY HOTTIE...|       6|2010-12-01 08:26:00|  3.39|   17850.0|United Kingdom|\n",
            "|   536365|    22752|SET 7 BABUSHKA NE...|       2|2010-12-01 08:26:00|  7.65|   17850.0|United Kingdom|\n",
            "|   536365|    21730|GLASS STAR FROSTE...|       6|2010-12-01 08:26:00|  4.25|   17850.0|United Kingdom|\n",
            "|   536366|    22633|HAND WARMER UNION...|       6|2010-12-01 08:28:00|  1.85|   17850.0|United Kingdom|\n",
            "|   536366|    22632|HAND WARMER RED P...|       6|2010-12-01 08:28:00|  1.85|   17850.0|United Kingdom|\n",
            "|   536367|    84879|ASSORTED COLOUR B...|      32|2010-12-01 08:34:00|  1.69|   13047.0|United Kingdom|\n",
            "|   536367|    22745|POPPY'S PLAYHOUSE...|       6|2010-12-01 08:34:00|   2.1|   13047.0|United Kingdom|\n",
            "|   536367|    22748|POPPY'S PLAYHOUSE...|       6|2010-12-01 08:34:00|   2.1|   13047.0|United Kingdom|\n",
            "|   536367|    22749|FELTCRAFT PRINCES...|       8|2010-12-01 08:34:00|  3.75|   13047.0|United Kingdom|\n",
            "|   536367|    22310|IVORY KNITTED MUG...|       6|2010-12-01 08:34:00|  1.65|   13047.0|United Kingdom|\n",
            "|   536367|    84969|BOX OF 6 ASSORTED...|       6|2010-12-01 08:34:00|  4.25|   13047.0|United Kingdom|\n",
            "|   536367|    22623|BOX OF VINTAGE JI...|       3|2010-12-01 08:34:00|  4.95|   13047.0|United Kingdom|\n",
            "|   536367|    22622|BOX OF VINTAGE AL...|       2|2010-12-01 08:34:00|  9.95|   13047.0|United Kingdom|\n",
            "|   536367|    21754|HOME BUILDING BLO...|       3|2010-12-01 08:34:00|  5.95|   13047.0|United Kingdom|\n",
            "|   536367|    21755|LOVE BUILDING BLO...|       3|2010-12-01 08:34:00|  5.95|   13047.0|United Kingdom|\n",
            "|   536367|    21777|RECIPE BOX WITH M...|       4|2010-12-01 08:34:00|  7.95|   13047.0|United Kingdom|\n",
            "+---------+---------+--------------------+--------+-------------------+------+----------+--------------+\n",
            "only showing top 20 rows\n",
            "\n"
          ]
        }
      ]
    },
    {
      "cell_type": "code",
      "source": [
        "# Select only CustomerID and Amount\n",
        "stationAmt = minAmt.select(\"CustomerID\", \"Amount\")\n"
      ],
      "metadata": {
        "id": "K4PfWm-TPxY_"
      },
      "execution_count": null,
      "outputs": []
    },
    {
      "cell_type": "code",
      "source": [
        "stationAmt.show()"
      ],
      "metadata": {
        "colab": {
          "base_uri": "https://localhost:8080/"
        },
        "id": "PNbL8e6VQsll",
        "outputId": "6132dd9e-01e1-4c37-e4db-60fddb674733"
      },
      "execution_count": null,
      "outputs": [
        {
          "output_type": "stream",
          "name": "stdout",
          "text": [
            "+----------+------+\n",
            "|CustomerID|Amount|\n",
            "+----------+------+\n",
            "|   17850.0|  2.55|\n",
            "|   17850.0|  3.39|\n",
            "|   17850.0|  2.75|\n",
            "|   17850.0|  3.39|\n",
            "|   17850.0|  3.39|\n",
            "|   17850.0|  7.65|\n",
            "|   17850.0|  4.25|\n",
            "|   17850.0|  1.85|\n",
            "|   17850.0|  1.85|\n",
            "|   13047.0|  1.69|\n",
            "|   13047.0|   2.1|\n",
            "|   13047.0|   2.1|\n",
            "|   13047.0|  3.75|\n",
            "|   13047.0|  1.65|\n",
            "|   13047.0|  4.25|\n",
            "|   13047.0|  4.95|\n",
            "|   13047.0|  9.95|\n",
            "|   13047.0|  5.95|\n",
            "|   13047.0|  5.95|\n",
            "|   13047.0|  7.95|\n",
            "+----------+------+\n",
            "only showing top 20 rows\n",
            "\n"
          ]
        }
      ]
    },
    {
      "cell_type": "code",
      "source": [
        "# Aggregate to find minimum CustomerID for every Amount \n",
        "minAmtByCustomer = stationAmt.groupBy(\"CustomerID\").min(\"Amount\")\n",
        "minAmtByCustomer.show()"
      ],
      "metadata": {
        "colab": {
          "base_uri": "https://localhost:8080/"
        },
        "id": "zYSfQaTgP-s7",
        "outputId": "cab67a35-d951-4ba1-af81-1ce84ef0056a"
      },
      "execution_count": null,
      "outputs": [
        {
          "output_type": "stream",
          "name": "stdout",
          "text": [
            "+----------+-----------+\n",
            "|CustomerID|min(Amount)|\n",
            "+----------+-----------+\n",
            "|   18085.0|        2.1|\n",
            "|   17905.0|       1.25|\n",
            "|   17377.0|       0.29|\n",
            "|   17850.0|       1.06|\n",
            "|   17181.0|       0.55|\n",
            "|   16835.0|        2.1|\n",
            "|   13093.0|       0.85|\n",
            "|   13694.0|       0.24|\n",
            "|   15525.0|       0.29|\n",
            "|   14307.0|       0.21|\n",
            "|   17460.0|       9.95|\n",
            "|   12868.0|       0.65|\n",
            "|   13047.0|       1.65|\n",
            "|   16583.0|       1.25|\n",
            "|   14237.0|       0.85|\n",
            "|   15485.0|       0.42|\n",
            "|   14696.0|       0.42|\n",
            "|   12921.0|       1.25|\n",
            "|   12947.0|       0.42|\n",
            "|   17873.0|       0.85|\n",
            "+----------+-----------+\n",
            "only showing top 20 rows\n",
            "\n"
          ]
        }
      ]
    },
    {
      "cell_type": "code",
      "source": [
        "minAmtByCustomerS = minAmtByCustomer.withColumn(\"Amount\",\n",
        "                                                  func.round(func.col(\"min(Amount)\") * 0.1 * (9.0 / 5.0) + 32.0, 2))\\\n",
        "                                                  .select(\"CustomerID\", \"Amount\").sort(\"Amount\")"
      ],
      "metadata": {
        "id": "ZP9qpAniW1Dw"
      },
      "execution_count": null,
      "outputs": []
    },
    {
      "cell_type": "code",
      "source": [
        "minAmtByCustomerS.show()"
      ],
      "metadata": {
        "colab": {
          "base_uri": "https://localhost:8080/"
        },
        "id": "oOwMCBoIXEpy",
        "outputId": "7e984139-652b-4306-921b-7cd0b2c67c10"
      },
      "execution_count": null,
      "outputs": [
        {
          "output_type": "stream",
          "name": "stdout",
          "text": [
            "+----------+------+\n",
            "|CustomerID|Amount|\n",
            "+----------+------+\n",
            "|   17841.0| 32.02|\n",
            "|   17511.0| 32.02|\n",
            "|   17908.0| 32.02|\n",
            "|   18011.0| 32.03|\n",
            "|   14307.0| 32.04|\n",
            "|   14142.0| 32.04|\n",
            "|   13694.0| 32.04|\n",
            "|   17968.0| 32.05|\n",
            "|   17377.0| 32.05|\n",
            "|   14606.0| 32.05|\n",
            "|   14729.0| 32.05|\n",
            "|   13448.0| 32.05|\n",
            "|   15525.0| 32.05|\n",
            "|   17548.0| 32.05|\n",
            "|   12433.0| 32.05|\n",
            "|   12838.0| 32.05|\n",
            "|   16274.0| 32.05|\n",
            "|   14688.0| 32.07|\n",
            "|   12583.0| 32.08|\n",
            "|   15983.0| 32.08|\n",
            "+----------+------+\n",
            "only showing top 20 rows\n",
            "\n"
          ]
        }
      ]
    },
    {
      "cell_type": "code",
      "source": [
        "results = minAmtByCustomerS.collect()"
      ],
      "metadata": {
        "id": "PzFOYuYjZnyD"
      },
      "execution_count": null,
      "outputs": []
    },
    {
      "cell_type": "code",
      "source": [
        "for result in results:\n",
        "    print(result[0] + \"\\t{:.2f}F\".format(result[1]))            "
      ],
      "metadata": {
        "colab": {
          "base_uri": "https://localhost:8080/"
        },
        "id": "C9IaU2S8ZpfM",
        "outputId": "135058a3-afdb-4ce8-f52d-d0bea9c0e993"
      },
      "execution_count": null,
      "outputs": [
        {
          "output_type": "stream",
          "name": "stdout",
          "text": [
            "17908.0\t32.02F\n",
            "17511.0\t32.02F\n",
            "17841.0\t32.02F\n",
            "18011.0\t32.03F\n",
            "13694.0\t32.04F\n",
            "14307.0\t32.04F\n",
            "14142.0\t32.04F\n",
            "17377.0\t32.05F\n",
            "15525.0\t32.05F\n",
            "17548.0\t32.05F\n",
            "17968.0\t32.05F\n",
            "14606.0\t32.05F\n",
            "16274.0\t32.05F\n",
            "12433.0\t32.05F\n",
            "14729.0\t32.05F\n",
            "12838.0\t32.05F\n",
            "13448.0\t32.05F\n",
            "14688.0\t32.07F\n",
            "15485.0\t32.08F\n",
            "14696.0\t32.08F\n",
            "12947.0\t32.08F\n",
            "13408.0\t32.08F\n",
            "17897.0\t32.08F\n",
            "14078.0\t32.08F\n",
            "12583.0\t32.08F\n",
            "15983.0\t32.08F\n",
            "16048.0\t32.08F\n",
            "17346.0\t32.08F\n",
            "17760.0\t32.08F\n",
            "13065.0\t32.08F\n",
            "15012.0\t32.08F\n",
            "16250.0\t32.08F\n",
            "14594.0\t32.08F\n",
            "12662.0\t32.08F\n",
            "17181.0\t32.10F\n",
            "13767.0\t32.10F\n",
            "15862.0\t32.10F\n",
            "16218.0\t32.10F\n",
            "14849.0\t32.10F\n",
            "12868.0\t32.12F\n",
            "18074.0\t32.12F\n",
            "17643.0\t32.12F\n",
            "17920.0\t32.12F\n",
            "17025.0\t32.12F\n",
            "13705.0\t32.12F\n",
            "14911.0\t32.12F\n",
            "16210.0\t32.13F\n",
            "13093.0\t32.15F\n",
            "14237.0\t32.15F\n",
            "17873.0\t32.15F\n",
            "16098.0\t32.15F\n",
            "12472.0\t32.15F\n",
            "16539.0\t32.15F\n",
            "16552.0\t32.15F\n",
            "15311.0\t32.15F\n",
            "12431.0\t32.15F\n",
            "17069.0\t32.15F\n",
            "16955.0\t32.15F\n",
            "15605.0\t32.15F\n",
            "15235.0\t32.17F\n",
            "17850.0\t32.19F\n",
            "13777.0\t32.19F\n",
            "17905.0\t32.23F\n",
            "16583.0\t32.23F\n",
            "12921.0\t32.23F\n",
            "13468.0\t32.23F\n",
            "17690.0\t32.23F\n",
            "13255.0\t32.23F\n",
            "14496.0\t32.23F\n",
            "13758.0\t32.23F\n",
            "17420.0\t32.23F\n",
            "13576.0\t32.23F\n",
            "15922.0\t32.23F\n",
            "18144.0\t32.23F\n",
            "16029.0\t32.23F\n",
            "16928.0\t32.23F\n",
            "17809.0\t32.26F\n",
            "15165.0\t32.26F\n",
            "13047.0\t32.30F\n",
            "14001.0\t32.30F\n",
            "16456.0\t32.30F\n",
            "12791.0\t32.33F\n",
            "18085.0\t32.38F\n",
            "16835.0\t32.38F\n",
            "15350.0\t32.38F\n",
            "17951.0\t32.38F\n",
            "13748.0\t32.46F\n",
            "14045.0\t32.46F\n",
            "15291.0\t32.46F\n",
            "15513.0\t32.46F\n",
            "17572.0\t32.53F\n",
            "18229.0\t32.68F\n",
            "17924.0\t32.84F\n",
            "12748.0\t32.89F\n",
            "17460.0\t33.79F\n",
            "13747.0\t33.79F\n",
            "15100.0\t33.97F\n",
            "14527.0\t36.95F\n"
          ]
        }
      ]
    },
    {
      "cell_type": "code",
      "source": [
        "spark.stop()"
      ],
      "metadata": {
        "id": "VwPQ0HB0Zx2N"
      },
      "execution_count": null,
      "outputs": []
    }
  ]
}